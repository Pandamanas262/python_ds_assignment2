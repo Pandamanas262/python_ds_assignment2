{
 "cells": [
  {
   "cell_type": "code",
   "execution_count": 2,
   "id": "cc2ab25e-d9fd-4053-b0e8-ab3438a34a6d",
   "metadata": {},
   "outputs": [
    {
     "data": {
      "text/plain": [
       "' String slicing in Python allows you to extract a portion of a string by specifying a start and end index '"
      ]
     },
     "execution_count": 2,
     "metadata": {},
     "output_type": "execute_result"
    }
   ],
   "source": [
    "#\u0014 D\u0015sc\u001e",
    "ss str\u0015ng sl\u0015c\u0015ng and prov\u0015de e\u000b",
    "amples\u0014\n",
    "''' String slicing in Python allows you to extract a portion of a string by specifying a start and end index '''"
   ]
  },
  {
   "cell_type": "code",
   "execution_count": 4,
   "id": "6b7246dd-d12a-41a1-8530-a6db8be7732c",
   "metadata": {},
   "outputs": [
    {
     "data": {
      "text/plain": [
       "'albert '"
      ]
     },
     "execution_count": 4,
     "metadata": {},
     "output_type": "execute_result"
    }
   ],
   "source": [
    "#example\n",
    "name=\"albert Einstein\"\n",
    "initial=name[0:7:1]\n",
    "initial"
   ]
  },
  {
   "cell_type": "code",
   "execution_count": 6,
   "id": "8734e39a-db64-40c9-aa27-c1be3ea05160",
   "metadata": {},
   "outputs": [
    {
     "data": {
      "text/plain": [
       "'the above method is called array slicing  [:: ] method.i.e start.stop,step.'"
      ]
     },
     "execution_count": 6,
     "metadata": {},
     "output_type": "execute_result"
    }
   ],
   "source": [
    "'''the above method is called array slicing  [:: ] method.i.e start.stop,step.'''"
   ]
  },
  {
   "cell_type": "code",
   "execution_count": 7,
   "id": "8e9d437a-746b-496e-838b-7156a1b7da05",
   "metadata": {},
   "outputs": [],
   "source": [
    "#Q2 Explain the key features of lists in Python."
   ]
  },
  {
   "cell_type": "code",
   "execution_count": 8,
   "id": "9d3cf018-dacf-4048-963e-fde9cfe30601",
   "metadata": {},
   "outputs": [
    {
     "data": {
      "text/plain": [
       "'List is collection data type in python. it is Ordered, mutable collections of elements.\\nLists can hold items of various data types (numbers, strings, even other lists!).'"
      ]
     },
     "execution_count": 8,
     "metadata": {},
     "output_type": "execute_result"
    }
   ],
   "source": [
    "'''List is collection data type in python. it is Ordered, mutable collections of elements.\n",
    "Lists can hold items of various data types (numbers, strings, even other lists!).'''"
   ]
  },
  {
   "cell_type": "code",
   "execution_count": 10,
   "id": "1d861922-8d04-42b2-b499-06e576fba5e3",
   "metadata": {},
   "outputs": [],
   "source": [
    "#Q6 Discuss the use cases of tuples and sets in Python programming."
   ]
  },
  {
   "cell_type": "code",
   "execution_count": 11,
   "id": "6ad8b0d4-7527-4c87-a177-36392366924f",
   "metadata": {},
   "outputs": [
    {
     "data": {
      "text/plain": [
       "' tuple --Tuple is an immutable sequence in python.\\nIt cannot be changed or replaced since it is immutable.\\nIt is defined under parenthesis().\\nTuples can store any type of element.\\nSets--Sets are an unordered collection of elements or unintended collection of items In python.\\nHere the order in which the elements are added into the set is not fixed, it can change frequently.\\nIt is defined under curly braces{}\\nSets are mutable, however, only immutable objects can be stored in it.\\n\\ntuple is used because of it is immutabiliti,data integrity,and perfomance.\\nsets are useful for managing unique collections of items, performing set operations,\\nensuring data uniqueness, and optimizing performance .\\n'"
      ]
     },
     "execution_count": 11,
     "metadata": {},
     "output_type": "execute_result"
    }
   ],
   "source": [
    "''' tuple --Tuple is an immutable sequence in python.\n",
    "It cannot be changed or replaced since it is immutable.\n",
    "It is defined under parenthesis().\n",
    "Tuples can store any type of element.\n",
    "Sets--Sets are an unordered collection of elements or unintended collection of items In python.\n",
    "Here the order in which the elements are added into the set is not fixed, it can change frequently.\n",
    "It is defined under curly braces{}\n",
    "Sets are mutable, however, only immutable objects can be stored in it.\n",
    "\n",
    "tuple is used because of it is immutabiliti,data integrity,and perfomance.\n",
    "sets are useful for managing unique collections of items, performing set operations,\n",
    "ensuring data uniqueness, and optimizing performance .\n",
    "'''"
   ]
  },
  {
   "cell_type": "code",
   "execution_count": 12,
   "id": "12a1b66d-ec32-4eff-baa3-4d6861b46308",
   "metadata": {},
   "outputs": [],
   "source": [
    "#Q7Describe how to add, modify, and delete items in a dictionary with examples"
   ]
  },
  {
   "cell_type": "code",
   "execution_count": 13,
   "id": "077c0a91-8383-4280-b86b-4fb754a93748",
   "metadata": {},
   "outputs": [
    {
     "name": "stdout",
     "output_type": "stream",
     "text": [
      "{'brand': 'Ford', 'model': 'Mustang', 'year': 1964, 'color': 'red'}\n"
     ]
    }
   ],
   "source": [
    "''' Adding an item to the dictionary is done by using a new index key and assigning a value to it:'''\n",
    "thisdict = {\n",
    "  \"brand\": \"Ford\",\n",
    "  \"model\": \"Mustang\",\n",
    "  \"year\": 1964\n",
    "}\n",
    "thisdict[\"color\"] = \"red\"\n",
    "print(thisdict)"
   ]
  },
  {
   "cell_type": "code",
   "execution_count": 18,
   "id": "ef844d8e-7840-42b4-9b08-c022e6a69961",
   "metadata": {},
   "outputs": [
    {
     "data": {
      "text/plain": [
       "{'brand': 'Ford', 'model': 'Mustang', 'year': '1967'}"
      ]
     },
     "execution_count": 18,
     "metadata": {},
     "output_type": "execute_result"
    }
   ],
   "source": [
    "''' The update() method will update the dictionary with the items from a given argument. If the item does not exist, the item will be added.\n",
    "The argument must be a dictionary, or an iterable object with key:value pairs.'''\n",
    "thisdict = {\n",
    "  \"brand\": \"Ford\",\n",
    "  \"model\": \"Mustang\",\n",
    "  \"year\": 1964\n",
    "}\n",
    "thisdict.update({\"year\": \"1967\"})\n",
    "thisdict\n",
    "#here the year is updated through update method."
   ]
  },
  {
   "cell_type": "code",
   "execution_count": 19,
   "id": "a44c77c2-ab11-42b9-8503-3577eea0d98e",
   "metadata": {},
   "outputs": [],
   "source": [
    "#Q8  Discuss the importance of dictionary keys being immutable and provide examples\n"
   ]
  },
  {
   "cell_type": "code",
   "execution_count": null,
   "id": "bc609083-2f7d-4a24-8e4c-d262d5aed63a",
   "metadata": {},
   "outputs": [],
   "source": []
  },
  {
   "cell_type": "code",
   "execution_count": 20,
   "id": "60cb08f0-0909-498a-9e68-0b1961a54f77",
   "metadata": {},
   "outputs": [
    {
     "name": "stdout",
     "output_type": "stream",
     "text": [
      "banana\n"
     ]
    }
   ],
   "source": [
    "#Q3 Describe how to access, modify, and delete elements in a list with examples.\n",
    "'''List items are indexed and we can access them by referring to the index number'''\n",
    "#ex\n",
    "thislist = [\"apple\", \"banana\", \"cherry\"]\n",
    "print(thislist[1])"
   ]
  },
  {
   "cell_type": "code",
   "execution_count": 21,
   "id": "815b8928-898c-413f-b398-b1b5a9a7a05e",
   "metadata": {},
   "outputs": [
    {
     "name": "stdout",
     "output_type": "stream",
     "text": [
      "['apple', 'orange', 'cherry']\n"
     ]
    }
   ],
   "source": [
    "'''To modify the value of a specific item, we can use the index number:'''\n",
    "thislist = [\"apple\", \"banana\", \"cherry\"]\n",
    "thislist[1] = \"orange\"\n",
    "print(thislist)\n",
    "#i have changed the second item banana to orange."
   ]
  },
  {
   "cell_type": "code",
   "execution_count": 22,
   "id": "dd2ea9c5-0c90-4cd8-bcaf-4c94fd6d8d68",
   "metadata": {},
   "outputs": [
    {
     "data": {
      "text/plain": [
       "' List-->\\nMutable, i.e., elements can be changed, added, or removed.\\t\\nSyntax\\tDefined using square brackets [].\\nPerformance\\tSlower due to dynamic nature and overhead.\\nUse Cases\\tSuitable for collections of items that may change over time, such as user inputs or list objects.\\nMethods\\tExtensive methods for modification, such as append(), remove(), pop(), sort().\\n\\ntuple-> Immutable, i.e., elements cannot be changed after creation.\\nDefined using parentheses ().\\nFaster due to static nature and optimization.\\nIdeal for fixed collections of items, like coordinates, configuration settings, or constants.\\t\\nLimited methods, mostly for counting and indexing, such as count(), index().'"
      ]
     },
     "execution_count": 22,
     "metadata": {},
     "output_type": "execute_result"
    }
   ],
   "source": [
    "#Q4 Compare and contrast tuples and lists with examples.\n",
    "''' List-->\n",
    "Mutable, i.e., elements can be changed, added, or removed.\t\n",
    "Syntax\tDefined using square brackets [].\n",
    "Performance\tSlower due to dynamic nature and overhead.\n",
    "Use Cases\tSuitable for collections of items that may change over time, such as user inputs or list objects.\n",
    "Methods\tExtensive methods for modification, such as append(), remove(), pop(), sort().\n",
    "\n",
    "tuple-> Immutable, i.e., elements cannot be changed after creation.\n",
    "Defined using parentheses ().\n",
    "Faster due to static nature and optimization.\n",
    "Ideal for fixed collections of items, like coordinates, configuration settings, or constants.\t\n",
    "Limited methods, mostly for counting and indexing, such as count(), index().'''"
   ]
  },
  {
   "cell_type": "code",
   "execution_count": 1,
   "id": "5262279a-4f8e-4b2c-a9a3-7bfb66dc9ef3",
   "metadata": {},
   "outputs": [],
   "source": [
    "#5 Describe the key features of sets and provide examples of their use."
   ]
  },
  {
   "cell_type": "code",
   "execution_count": 2,
   "id": "7275b439-0443-400f-95f3-3dc07643bf2e",
   "metadata": {},
   "outputs": [
    {
     "data": {
      "text/plain": [
       "' A set is represented by a capital letter and symbol and number of elements in the finite setis represented as the cardinal number of\\na set in a curly braces {}.\\nexample , set A is a collection of all the natural numbers.\\nsuch as a= {1,2,3,4,5....}.'"
      ]
     },
     "execution_count": 2,
     "metadata": {},
     "output_type": "execute_result"
    }
   ],
   "source": [
    "''' A set is represented by a capital letter and symbol and number of elements in the finite setis represented as the cardinal number of\n",
    "a set in a curly braces {}.\n",
    "example , set A is a collection of all the natural numbers.\n",
    "such as a= {1,2,3,4,5....}.'''"
   ]
  },
  {
   "cell_type": "code",
   "execution_count": null,
   "id": "a623d500-37ca-4899-9ea8-7230b39e220b",
   "metadata": {},
   "outputs": [],
   "source": []
  }
 ],
 "metadata": {
  "kernelspec": {
   "display_name": "Python 3 (ipykernel)",
   "language": "python",
   "name": "python3"
  },
  "language_info": {
   "codemirror_mode": {
    "name": "ipython",
    "version": 3
   },
   "file_extension": ".py",
   "mimetype": "text/x-python",
   "name": "python",
   "nbconvert_exporter": "python",
   "pygments_lexer": "ipython3",
   "version": "3.10.8"
  }
 },
 "nbformat": 4,
 "nbformat_minor": 5
}
